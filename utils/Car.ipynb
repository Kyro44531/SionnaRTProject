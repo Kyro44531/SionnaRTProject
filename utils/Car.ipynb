{
 "cells": [
  {
   "cell_type": "code",
   "execution_count": null,
   "id": "initial_id",
   "metadata": {
    "collapsed": true,
    "jupyter": {
     "outputs_hidden": true
    }
   },
   "outputs": [],
   "source": [
    "import os # Configure which GPU\n",
    "if os.getenv(\"CUDA_VISIBLE_DEVICES\") is None:\n",
    "    gpu_num = 0 # Use \"\" to use the CPU\n",
    "    os.environ[\"CUDA_VISIBLE_DEVICES\"] = f\"{gpu_num}\"\n",
    "os.environ['TF_CPP_MIN_LOG_LEVEL'] = '3'\n",
    "\n",
    "# Import Sionna\n",
    "try:\n",
    "    import sionna\n",
    "except ImportError as e:\n",
    "    # Install Sionna if package is not already installed\n",
    "    import os\n",
    "    os.system(\"pip install sionna\")\n",
    "    import sionna\n",
    "\n",
    "# Configure the notebook to use only a single GPU and allocate only as much memory as needed\n",
    "# For more details, see https://www.tensorflow.org/guide/gpu\n",
    "import tensorflow as tf\n",
    "gpus = tf.config.list_physical_devices('GPU')\n",
    "if gpus:\n",
    "    try:\n",
    "        tf.config.experimental.set_memory_growth(gpus[0], True)\n",
    "    except RuntimeError as e:\n",
    "        print(e)\n",
    "\n",
    "# Avoid warnings from TensorFlow\n",
    "tf.get_logger().setLevel('ERROR')\n",
    "\n",
    "# Colab does currently not support the latest version of ipython.\n",
    "# Thus, the preview does not work in Colab. However, whenever possible we\n",
    "# strongly recommend to use the scene preview mode.\n",
    "try: # detect if the notebook runs in Colab\n",
    "    import google.colab\n",
    "    no_preview = True # deactivate preview\n",
    "except:\n",
    "    if os.getenv(\"SIONNA_NO_PREVIEW\"):\n",
    "        no_preview = True\n",
    "    else:\n",
    "        no_preview = False\n",
    "\n",
    "resolution = [480,320] # increase for higher quality of renderings\n",
    "\n",
    "# Define magic cell command to skip a cell if needed\n",
    "from IPython.core.magic import register_cell_magic\n",
    "from IPython import get_ipython\n",
    "\n",
    "@register_cell_magic\n",
    "def skip_if(line, cell):\n",
    "    if eval(line):\n",
    "        return\n",
    "    get_ipython().run_cell(cell)\n",
    "\n",
    "# Set random seed for reproducibility\n",
    "sionna.config.seed = 40\n",
    "\n",
    "import matplotlib.pyplot as plt\n",
    "import numpy as np\n",
    "\n",
    "from sionna.rt import load_scene, PlanarArray, Transmitter, Receiver, Camera\n",
    "from sionna.rt.utils import r_hat\n",
    "from sionna.ofdm import ResourceGrid\n",
    "from sionna.channel.utils import subcarrier_frequencies, cir_to_ofdm_channel\n",
    "from sionna.constants import SPEED_OF_LIGHT"
   ]
  },
  {
   "cell_type": "code",
   "execution_count": null,
   "id": "ebe99180-a7a8-4900-b774-54c2225ba1e4",
   "metadata": {},
   "outputs": [],
   "source": [
    "scene = load_scene(\"../models/car/car.xml\")\n",
    "\n",
    "# Configure arrays for all transmitters and receivers in the scene\n",
    "scene.tx_array = PlanarArray(1,1,0.5,0.5,\"iso\",\"V\")\n",
    "scene.rx_array = scene.tx_array\n",
    "# Add a transmitter and a receiversudo /usr/bin/vmhgfs-fuse .host:/ /mnt/hgfs -o allow_other -o uid=1000 -o gid=1000 -o umask=022\n",
    "scene.add(Transmitter(\"tx\", [ 6, 3, 4]))\n",
    "scene.add(Receiver(\"rx\",    [ -1, -3.5, 3]))\n",
    "\n",
    "# Compute pathssudo /usr/bin/vmhgfs-fuse .host:/ /mnt/hgfs 损耗-材料损耗-材料-o allow_other -o uid=1000 -o gid=1000 -o umask=022\n",
    "# paths = scene.compute_paths(max_depth=1)\n",
    "# paths.normalize_delays = False # Do 损耗-材料损耗-材料损耗-材料\n",
    "scene.preview()"
   ]
  },
  {
   "cell_type": "code",
   "execution_count": null,
   "id": "584a6e10-c8d7-4968-848c-39eb83512eef",
   "metadata": {},
   "outputs": [],
   "source": [
    "scene.frequency = 3e9\n",
    "scene.synthetic_array = True\n",
    "paths = scene.compute_paths(max_depth=4, \n",
    "                         num_samples=1e6)\n",
    "scene.preview(paths, show_devices=True, show_paths=True)"
   ]
  }
 ],
 "metadata": {
  "kernelspec": {
   "display_name": "Python 3 (ipykernel)",
   "language": "python",
   "name": "python3"
  },
  "language_info": {
   "codemirror_mode": {
    "name": "ipython",
    "version": 3
   },
   "file_extension": ".py",
   "mimetype": "text/x-python",
   "name": "python",
   "nbconvert_exporter": "python",
   "pygments_lexer": "ipython3",
   "version": "3.10.12"
  }
 },
 "nbformat": 4,
 "nbformat_minor": 5
}
